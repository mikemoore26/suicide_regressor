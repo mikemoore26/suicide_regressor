{
 "cells": [
  {
   "cell_type": "code",
   "execution_count": 1,
   "metadata": {},
   "outputs": [],
   "source": [
    "import pandas as pd\n",
    "import seaborn as sns\n",
    "import matplotlib.pyplot as plt\n",
    "import numpy as np\n",
    "\n",
    "from sklearn.linear_model import LinearRegression, Ridge, Lasso\n",
    "from sklearn.ensemble import RandomForestRegressor,AdaBoostRegressor\n",
    "from sklearn.tree import DecisionTreeRegressor"
   ]
  },
  {
   "cell_type": "code",
   "execution_count": 13,
   "metadata": {},
   "outputs": [],
   "source": [
    "df = pd.read_csv('data/data.csv')"
   ]
  },
  {
   "cell_type": "code",
   "execution_count": 14,
   "metadata": {},
   "outputs": [
    {
     "name": "stdout",
     "output_type": "stream",
     "text": [
      "<class 'pandas.core.frame.DataFrame'>\n",
      "RangeIndex: 21703 entries, 0 to 21702\n",
      "Data columns (total 11 columns):\n",
      " #   Column              Non-Null Count  Dtype  \n",
      "---  ------              --------------  -----  \n",
      " 0   country             21703 non-null  int64  \n",
      " 1   year                21703 non-null  int64  \n",
      " 2   age                 21703 non-null  int64  \n",
      " 3   suicides_no         21703 non-null  int64  \n",
      " 4   population          21703 non-null  int64  \n",
      " 5   gdp_per_capita ($)  21703 non-null  int64  \n",
      " 6   generation          21703 non-null  int64  \n",
      " 7   sui_by_pop          21703 non-null  float64\n",
      " 8   sui_by_total        21703 non-null  float64\n",
      " 9   gdp_for_year        21703 non-null  int64  \n",
      " 10  is_male             21703 non-null  int64  \n",
      "dtypes: float64(2), int64(9)\n",
      "memory usage: 1.8 MB\n"
     ]
    }
   ],
   "source": [
    "df.info()"
   ]
  },
  {
   "cell_type": "code",
   "execution_count": 15,
   "metadata": {},
   "outputs": [
    {
     "data": {
      "text/html": [
       "<div>\n",
       "<style scoped>\n",
       "    .dataframe tbody tr th:only-of-type {\n",
       "        vertical-align: middle;\n",
       "    }\n",
       "\n",
       "    .dataframe tbody tr th {\n",
       "        vertical-align: top;\n",
       "    }\n",
       "\n",
       "    .dataframe thead th {\n",
       "        text-align: right;\n",
       "    }\n",
       "</style>\n",
       "<table border=\"1\" class=\"dataframe\">\n",
       "  <thead>\n",
       "    <tr style=\"text-align: right;\">\n",
       "      <th></th>\n",
       "      <th>country</th>\n",
       "      <th>year</th>\n",
       "      <th>age</th>\n",
       "      <th>suicides_no</th>\n",
       "      <th>population</th>\n",
       "      <th>gdp_per_capita ($)</th>\n",
       "      <th>generation</th>\n",
       "      <th>sui_by_pop</th>\n",
       "      <th>sui_by_total</th>\n",
       "      <th>gdp_for_year</th>\n",
       "      <th>is_male</th>\n",
       "    </tr>\n",
       "  </thead>\n",
       "  <tbody>\n",
       "    <tr>\n",
       "      <th>count</th>\n",
       "      <td>21703.000000</td>\n",
       "      <td>21703.000000</td>\n",
       "      <td>21703.000000</td>\n",
       "      <td>21703.000000</td>\n",
       "      <td>2.170300e+04</td>\n",
       "      <td>21703.000000</td>\n",
       "      <td>21703.000000</td>\n",
       "      <td>21703.000000</td>\n",
       "      <td>2.170300e+04</td>\n",
       "      <td>2.170300e+04</td>\n",
       "      <td>21703.000000</td>\n",
       "    </tr>\n",
       "    <tr>\n",
       "      <th>mean</th>\n",
       "      <td>45.530894</td>\n",
       "      <td>2000.960374</td>\n",
       "      <td>2.523937</td>\n",
       "      <td>42.241718</td>\n",
       "      <td>6.484881e+05</td>\n",
       "      <td>14642.608626</td>\n",
       "      <td>2.725291</td>\n",
       "      <td>0.000109</td>\n",
       "      <td>3.657710e-05</td>\n",
       "      <td>7.713496e+10</td>\n",
       "      <td>0.473022</td>\n",
       "    </tr>\n",
       "    <tr>\n",
       "      <th>std</th>\n",
       "      <td>27.358578</td>\n",
       "      <td>8.428637</td>\n",
       "      <td>1.722491</td>\n",
       "      <td>65.053538</td>\n",
       "      <td>1.268192e+06</td>\n",
       "      <td>17923.304471</td>\n",
       "      <td>1.790422</td>\n",
       "      <td>0.000174</td>\n",
       "      <td>5.632985e-05</td>\n",
       "      <td>1.086982e+11</td>\n",
       "      <td>0.499283</td>\n",
       "    </tr>\n",
       "    <tr>\n",
       "      <th>min</th>\n",
       "      <td>0.000000</td>\n",
       "      <td>1985.000000</td>\n",
       "      <td>0.000000</td>\n",
       "      <td>0.000000</td>\n",
       "      <td>2.780000e+02</td>\n",
       "      <td>251.000000</td>\n",
       "      <td>0.000000</td>\n",
       "      <td>0.000000</td>\n",
       "      <td>0.000000e+00</td>\n",
       "      <td>4.691962e+07</td>\n",
       "      <td>0.000000</td>\n",
       "    </tr>\n",
       "    <tr>\n",
       "      <th>25%</th>\n",
       "      <td>23.000000</td>\n",
       "      <td>1994.000000</td>\n",
       "      <td>1.000000</td>\n",
       "      <td>1.000000</td>\n",
       "      <td>5.251300e+04</td>\n",
       "      <td>3051.000000</td>\n",
       "      <td>1.000000</td>\n",
       "      <td>0.000005</td>\n",
       "      <td>8.658998e-07</td>\n",
       "      <td>5.329214e+09</td>\n",
       "      <td>0.000000</td>\n",
       "    </tr>\n",
       "    <tr>\n",
       "      <th>50%</th>\n",
       "      <td>43.000000</td>\n",
       "      <td>2001.000000</td>\n",
       "      <td>3.000000</td>\n",
       "      <td>11.000000</td>\n",
       "      <td>2.854980e+05</td>\n",
       "      <td>7459.000000</td>\n",
       "      <td>2.000000</td>\n",
       "      <td>0.000046</td>\n",
       "      <td>9.524898e-06</td>\n",
       "      <td>2.396528e+10</td>\n",
       "      <td>0.000000</td>\n",
       "    </tr>\n",
       "    <tr>\n",
       "      <th>75%</th>\n",
       "      <td>68.000000</td>\n",
       "      <td>2008.000000</td>\n",
       "      <td>4.000000</td>\n",
       "      <td>55.000000</td>\n",
       "      <td>6.336760e+05</td>\n",
       "      <td>20270.500000</td>\n",
       "      <td>4.000000</td>\n",
       "      <td>0.000140</td>\n",
       "      <td>4.762449e-05</td>\n",
       "      <td>1.040666e+11</td>\n",
       "      <td>1.000000</td>\n",
       "    </tr>\n",
       "    <tr>\n",
       "      <th>max</th>\n",
       "      <td>95.000000</td>\n",
       "      <td>2016.000000</td>\n",
       "      <td>5.000000</td>\n",
       "      <td>322.000000</td>\n",
       "      <td>1.827220e+07</td>\n",
       "      <td>126352.000000</td>\n",
       "      <td>5.000000</td>\n",
       "      <td>0.002250</td>\n",
       "      <td>2.788197e-04</td>\n",
       "      <td>4.892852e+11</td>\n",
       "      <td>1.000000</td>\n",
       "    </tr>\n",
       "  </tbody>\n",
       "</table>\n",
       "</div>"
      ],
      "text/plain": [
       "            country          year           age   suicides_no    population  \\\n",
       "count  21703.000000  21703.000000  21703.000000  21703.000000  2.170300e+04   \n",
       "mean      45.530894   2000.960374      2.523937     42.241718  6.484881e+05   \n",
       "std       27.358578      8.428637      1.722491     65.053538  1.268192e+06   \n",
       "min        0.000000   1985.000000      0.000000      0.000000  2.780000e+02   \n",
       "25%       23.000000   1994.000000      1.000000      1.000000  5.251300e+04   \n",
       "50%       43.000000   2001.000000      3.000000     11.000000  2.854980e+05   \n",
       "75%       68.000000   2008.000000      4.000000     55.000000  6.336760e+05   \n",
       "max       95.000000   2016.000000      5.000000    322.000000  1.827220e+07   \n",
       "\n",
       "       gdp_per_capita ($)    generation    sui_by_pop  sui_by_total  \\\n",
       "count        21703.000000  21703.000000  21703.000000  2.170300e+04   \n",
       "mean         14642.608626      2.725291      0.000109  3.657710e-05   \n",
       "std          17923.304471      1.790422      0.000174  5.632985e-05   \n",
       "min            251.000000      0.000000      0.000000  0.000000e+00   \n",
       "25%           3051.000000      1.000000      0.000005  8.658998e-07   \n",
       "50%           7459.000000      2.000000      0.000046  9.524898e-06   \n",
       "75%          20270.500000      4.000000      0.000140  4.762449e-05   \n",
       "max         126352.000000      5.000000      0.002250  2.788197e-04   \n",
       "\n",
       "       gdp_for_year       is_male  \n",
       "count  2.170300e+04  21703.000000  \n",
       "mean   7.713496e+10      0.473022  \n",
       "std    1.086982e+11      0.499283  \n",
       "min    4.691962e+07      0.000000  \n",
       "25%    5.329214e+09      0.000000  \n",
       "50%    2.396528e+10      0.000000  \n",
       "75%    1.040666e+11      1.000000  \n",
       "max    4.892852e+11      1.000000  "
      ]
     },
     "execution_count": 15,
     "metadata": {},
     "output_type": "execute_result"
    }
   ],
   "source": [
    "df.describe()"
   ]
  },
  {
   "cell_type": "code",
   "execution_count": 16,
   "metadata": {},
   "outputs": [
    {
     "data": {
      "text/html": [
       "<div>\n",
       "<style scoped>\n",
       "    .dataframe tbody tr th:only-of-type {\n",
       "        vertical-align: middle;\n",
       "    }\n",
       "\n",
       "    .dataframe tbody tr th {\n",
       "        vertical-align: top;\n",
       "    }\n",
       "\n",
       "    .dataframe thead th {\n",
       "        text-align: right;\n",
       "    }\n",
       "</style>\n",
       "<table border=\"1\" class=\"dataframe\">\n",
       "  <thead>\n",
       "    <tr style=\"text-align: right;\">\n",
       "      <th></th>\n",
       "      <th>country</th>\n",
       "      <th>year</th>\n",
       "      <th>age</th>\n",
       "      <th>suicides_no</th>\n",
       "      <th>population</th>\n",
       "      <th>gdp_per_capita ($)</th>\n",
       "      <th>generation</th>\n",
       "      <th>sui_by_pop</th>\n",
       "      <th>sui_by_total</th>\n",
       "      <th>gdp_for_year</th>\n",
       "      <th>is_male</th>\n",
       "    </tr>\n",
       "  </thead>\n",
       "  <tbody>\n",
       "    <tr>\n",
       "      <th>6134</th>\n",
       "      <td>26</td>\n",
       "      <td>1999</td>\n",
       "      <td>4</td>\n",
       "      <td>71</td>\n",
       "      <td>516749</td>\n",
       "      <td>35763</td>\n",
       "      <td>5</td>\n",
       "      <td>0.000137</td>\n",
       "      <td>0.000061</td>\n",
       "      <td>177965224621</td>\n",
       "      <td>0</td>\n",
       "    </tr>\n",
       "    <tr>\n",
       "      <th>8285</th>\n",
       "      <td>34</td>\n",
       "      <td>2010</td>\n",
       "      <td>2</td>\n",
       "      <td>128</td>\n",
       "      <td>1685691</td>\n",
       "      <td>27886</td>\n",
       "      <td>2</td>\n",
       "      <td>0.000076</td>\n",
       "      <td>0.000111</td>\n",
       "      <td>299361576558</td>\n",
       "      <td>1</td>\n",
       "    </tr>\n",
       "    <tr>\n",
       "      <th>19401</th>\n",
       "      <td>85</td>\n",
       "      <td>1991</td>\n",
       "      <td>3</td>\n",
       "      <td>2</td>\n",
       "      <td>42788</td>\n",
       "      <td>1235</td>\n",
       "      <td>4</td>\n",
       "      <td>0.000047</td>\n",
       "      <td>0.000002</td>\n",
       "      <td>448300000</td>\n",
       "      <td>0</td>\n",
       "    </tr>\n",
       "    <tr>\n",
       "      <th>9758</th>\n",
       "      <td>39</td>\n",
       "      <td>2000</td>\n",
       "      <td>4</td>\n",
       "      <td>3</td>\n",
       "      <td>20653</td>\n",
       "      <td>34372</td>\n",
       "      <td>5</td>\n",
       "      <td>0.000145</td>\n",
       "      <td>0.000003</td>\n",
       "      <td>8927140438</td>\n",
       "      <td>0</td>\n",
       "    </tr>\n",
       "    <tr>\n",
       "      <th>15335</th>\n",
       "      <td>64</td>\n",
       "      <td>2008</td>\n",
       "      <td>2</td>\n",
       "      <td>13</td>\n",
       "      <td>577902</td>\n",
       "      <td>3438</td>\n",
       "      <td>0</td>\n",
       "      <td>0.000022</td>\n",
       "      <td>0.000011</td>\n",
       "      <td>18504130753</td>\n",
       "      <td>0</td>\n",
       "    </tr>\n",
       "  </tbody>\n",
       "</table>\n",
       "</div>"
      ],
      "text/plain": [
       "       country  year  age  suicides_no  population  gdp_per_capita ($)  \\\n",
       "6134        26  1999    4           71      516749               35763   \n",
       "8285        34  2010    2          128     1685691               27886   \n",
       "19401       85  1991    3            2       42788                1235   \n",
       "9758        39  2000    4            3       20653               34372   \n",
       "15335       64  2008    2           13      577902                3438   \n",
       "\n",
       "       generation  sui_by_pop  sui_by_total  gdp_for_year  is_male  \n",
       "6134            5    0.000137      0.000061  177965224621        0  \n",
       "8285            2    0.000076      0.000111  299361576558        1  \n",
       "19401           4    0.000047      0.000002     448300000        0  \n",
       "9758            5    0.000145      0.000003    8927140438        0  \n",
       "15335           0    0.000022      0.000011   18504130753        0  "
      ]
     },
     "execution_count": 16,
     "metadata": {},
     "output_type": "execute_result"
    }
   ],
   "source": [
    "df.sample(5)"
   ]
  },
  {
   "cell_type": "code",
   "execution_count": 17,
   "metadata": {},
   "outputs": [],
   "source": [
    "X = df.drop('suicides_no',1)\n",
    "y = df['suicides_no']"
   ]
  },
  {
   "cell_type": "code",
   "execution_count": 20,
   "metadata": {},
   "outputs": [],
   "source": [
    "from sklearn.model_selection import train_test_split\n",
    "from sklearn.preprocessing import MinMaxScaler"
   ]
  },
  {
   "cell_type": "code",
   "execution_count": 19,
   "metadata": {},
   "outputs": [],
   "source": [
    " X_train, X_test, y_train, y_test = train_test_split(X, y, test_size=0.33, random_state=26)"
   ]
  },
  {
   "cell_type": "code",
   "execution_count": 21,
   "metadata": {},
   "outputs": [],
   "source": [
    "scaler = MinMaxScaler()"
   ]
  },
  {
   "cell_type": "code",
   "execution_count": 22,
   "metadata": {},
   "outputs": [],
   "source": [
    "X_train = scaler.fit_transform(X_train)\n",
    "X_test = scaler.transform(X_test)"
   ]
  },
  {
   "cell_type": "code",
   "execution_count": 23,
   "metadata": {},
   "outputs": [],
   "source": [
    "from sklearn.linear_model import LinearRegression"
   ]
  },
  {
   "cell_type": "code",
   "execution_count": 24,
   "metadata": {},
   "outputs": [],
   "source": [
    "model = LinearRegression()\n",
    "model.fit(X_train,y_train)\n",
    "pred = model.predict(X_test)"
   ]
  },
  {
   "cell_type": "code",
   "execution_count": 25,
   "metadata": {},
   "outputs": [],
   "source": [
    "from sklearn.metrics import mean_squared_error,mean_absolute_error, r2_score"
   ]
  },
  {
   "cell_type": "code",
   "execution_count": 26,
   "metadata": {},
   "outputs": [],
   "source": [
    "df_res = pd.DataFrame()\n",
    "df_res['actual'] = y_test\n",
    "df_res['pred'] = pred\n",
    "df_res['MSE'] = mean_squared_error(y_test,pred)\n",
    "df_res['error'] = y_test - pred\n"
   ]
  },
  {
   "cell_type": "code",
   "execution_count": 27,
   "metadata": {},
   "outputs": [
    {
     "data": {
      "text/html": [
       "<div>\n",
       "<style scoped>\n",
       "    .dataframe tbody tr th:only-of-type {\n",
       "        vertical-align: middle;\n",
       "    }\n",
       "\n",
       "    .dataframe tbody tr th {\n",
       "        vertical-align: top;\n",
       "    }\n",
       "\n",
       "    .dataframe thead th {\n",
       "        text-align: right;\n",
       "    }\n",
       "</style>\n",
       "<table border=\"1\" class=\"dataframe\">\n",
       "  <thead>\n",
       "    <tr style=\"text-align: right;\">\n",
       "      <th></th>\n",
       "      <th>actual</th>\n",
       "      <th>pred</th>\n",
       "      <th>MSE</th>\n",
       "      <th>error</th>\n",
       "    </tr>\n",
       "  </thead>\n",
       "  <tbody>\n",
       "    <tr>\n",
       "      <th>19452</th>\n",
       "      <td>1</td>\n",
       "      <td>1.0</td>\n",
       "      <td>2.277851e-22</td>\n",
       "      <td>3.792633e-12</td>\n",
       "    </tr>\n",
       "    <tr>\n",
       "      <th>937</th>\n",
       "      <td>6</td>\n",
       "      <td>6.0</td>\n",
       "      <td>2.277851e-22</td>\n",
       "      <td>2.932765e-12</td>\n",
       "    </tr>\n",
       "    <tr>\n",
       "      <th>12188</th>\n",
       "      <td>205</td>\n",
       "      <td>205.0</td>\n",
       "      <td>2.277851e-22</td>\n",
       "      <td>6.627943e-11</td>\n",
       "    </tr>\n",
       "    <tr>\n",
       "      <th>11026</th>\n",
       "      <td>71</td>\n",
       "      <td>71.0</td>\n",
       "      <td>2.277851e-22</td>\n",
       "      <td>-1.278977e-11</td>\n",
       "    </tr>\n",
       "    <tr>\n",
       "      <th>20974</th>\n",
       "      <td>18</td>\n",
       "      <td>18.0</td>\n",
       "      <td>2.277851e-22</td>\n",
       "      <td>3.552714e-15</td>\n",
       "    </tr>\n",
       "  </tbody>\n",
       "</table>\n",
       "</div>"
      ],
      "text/plain": [
       "       actual   pred           MSE         error\n",
       "19452       1    1.0  2.277851e-22  3.792633e-12\n",
       "937         6    6.0  2.277851e-22  2.932765e-12\n",
       "12188     205  205.0  2.277851e-22  6.627943e-11\n",
       "11026      71   71.0  2.277851e-22 -1.278977e-11\n",
       "20974      18   18.0  2.277851e-22  3.552714e-15"
      ]
     },
     "execution_count": 27,
     "metadata": {},
     "output_type": "execute_result"
    }
   ],
   "source": [
    "df_res.head()"
   ]
  },
  {
   "cell_type": "code",
   "execution_count": 28,
   "metadata": {},
   "outputs": [
    {
     "data": {
      "text/plain": [
       "[<matplotlib.lines.Line2D at 0x7fc2a02240a0>]"
      ]
     },
     "execution_count": 28,
     "metadata": {},
     "output_type": "execute_result"
    },
    {
     "data": {
      "image/png": "[encoded data removed]",
      "text/plain": [
       "<Figure size 432x288 with 1 Axes>"
      ]
     },
     "metadata": {
      "needs_background": "light"
     },
     "output_type": "display_data"
    }
   ],
   "source": [
    "plt.plot(df_res['actual'],df_res['actual'],'b',alpha=1)\n",
    "plt.plot(df_res['pred'],df_res['actual'],'r',alpha=0.3)"
   ]
  },
  {
   "cell_type": "code",
   "execution_count": 29,
   "metadata": {},
   "outputs": [
    {
     "name": "stdout",
     "output_type": "stream",
     "text": [
      "MSE: 2.277851442855946e-22\n",
      "SRMSE: 1.509255260999923e-11\n",
      "MAE: 7.922496810495011e-12\n",
      "r2: 1.0\n"
     ]
    }
   ],
   "source": [
    "print(f'MSE: {mean_squared_error(y_test,pred)}')\n",
    "print(f'SRMSE: {np.sqrt(mean_squared_error(y_test,pred))}')\n",
    "print(f'MAE: {mean_absolute_error(y_test,pred)}')\n",
    "print(f'r2: {r2_score(y_test,pred)}')"
   ]
  },
  {
   "cell_type": "code",
   "execution_count": 30,
   "metadata": {},
   "outputs": [],
   "source": [
    "from sklearn.linear_model import LinearRegression, Ridge, Lasso\n",
    "from sklearn.ensemble import RandomForestRegressor,AdaBoostRegressor\n",
    "from sklearn.tree import DecisionTreeRegressor"
   ]
  },
  {
   "cell_type": "code",
   "execution_count": 32,
   "metadata": {},
   "outputs": [
    {
     "name": "stdout",
     "output_type": "stream",
     "text": [
      "********** LinearRegression() **********\n",
      "MSE: 2.277851442855946e-22\n",
      "SRMSE: 1.509255260999923e-11\n",
      "MAE: 7.922496810495011e-12\n",
      "r2: 1.0\n",
      "       actual   pred           MSE         error\n",
      "19452       1    1.0  2.277851e-22  3.792633e-12\n",
      "937         6    6.0  2.277851e-22  2.932765e-12\n",
      "12188     205  205.0  2.277851e-22  6.627943e-11\n",
      "11026      71   71.0  2.277851e-22 -1.278977e-11\n",
      "20974      18   18.0  2.277851e-22  3.552714e-15\n",
      "...       ...    ...           ...           ...\n",
      "7900       18   18.0  2.277851e-22 -1.744382e-12\n",
      "13625      36   36.0  2.277851e-22  1.129763e-12\n",
      "16706      65   65.0  2.277851e-22 -1.170974e-11\n",
      "7368       10   10.0  2.277851e-22  1.572076e-12\n",
      "5591      221  221.0  2.277851e-22  5.462653e-11\n",
      "\n",
      "[7162 rows x 4 columns]\n"
     ]
    },
    {
     "data": {
      "image/png": "[encoded data removed]",
      "text/plain": [
       "<Figure size 432x288 with 1 Axes>"
      ]
     },
     "metadata": {
      "needs_background": "light"
     },
     "output_type": "display_data"
    },
    {
     "name": "stdout",
     "output_type": "stream",
     "text": [
      "********************\n",
      "********** Ridge() **********\n",
      "MSE: 0.01989760030747161\n",
      "SRMSE: 0.14105885405557358\n",
      "MAE: 0.08815871516307855\n",
      "r2: 0.9999952683724876\n",
      "       actual        pred       MSE     error\n",
      "19452       1    1.144050  0.019898 -0.144050\n",
      "937         6    6.086070  0.019898 -0.086070\n",
      "12188     205  204.903311  0.019898  0.096689\n",
      "11026      71   71.128619  0.019898 -0.128619\n",
      "20974      18   18.106627  0.019898 -0.106627\n",
      "...       ...         ...       ...       ...\n",
      "7900       18   18.044227  0.019898 -0.044227\n",
      "13625      36   36.399507  0.019898 -0.399507\n",
      "16706      65   64.955085  0.019898  0.044915\n",
      "7368       10   10.060982  0.019898 -0.060982\n",
      "5591      221  220.758764  0.019898  0.241236\n",
      "\n",
      "[7162 rows x 4 columns]\n"
     ]
    },
    {
     "data": {
      "image/png": "[encoded data removed]",
      "text/plain": [
       "<Figure size 432x288 with 1 Axes>"
      ]
     },
     "metadata": {
      "needs_background": "light"
     },
     "output_type": "display_data"
    },
    {
     "name": "stdout",
     "output_type": "stream",
     "text": [
      "********************\n",
      "********** Lasso() **********\n",
      "MSE: 24.19871444985548\n",
      "SRMSE: 4.919218886150064\n",
      "MAE: 3.5609567363775096\n",
      "r2: 0.9942455722656877\n",
      "       actual        pred        MSE      error\n",
      "19452       1    4.121746  24.198714  -3.121746\n",
      "937         6    8.742459  24.198714  -2.742459\n",
      "12188     205  192.646859  24.198714  12.353141\n",
      "11026      71   68.811735  24.198714   2.188265\n",
      "20974      18   19.832172  24.198714  -1.832172\n",
      "...       ...         ...        ...        ...\n",
      "7900       18   19.832172  24.198714  -1.832172\n",
      "13625      36   36.466741  24.198714  -0.466741\n",
      "16706      65   63.266879  24.198714   1.733121\n",
      "7368       10   12.439030  24.198714  -2.439030\n",
      "5591      221  207.433142  24.198714  13.566858\n",
      "\n",
      "[7162 rows x 4 columns]\n"
     ]
    },
    {
     "data": {
      "image/png": "[encoded data removed]",
      "text/plain": [
       "<Figure size 432x288 with 1 Axes>"
      ]
     },
     "metadata": {
      "needs_background": "light"
     },
     "output_type": "display_data"
    },
    {
     "name": "stdout",
     "output_type": "stream",
     "text": [
      "********************\n",
      "********** AdaBoostRegressor() **********\n",
      "MSE: 18.53058488096708\n",
      "SRMSE: 4.304716585440565\n",
      "MAE: 3.6787664752048315\n",
      "r2: 0.995593447255513\n",
      "       actual        pred        MSE     error\n",
      "19452       1    5.962803  18.530585 -4.962803\n",
      "937         6    5.962803  18.530585  0.037197\n",
      "12188     205  203.508197  18.530585  1.491803\n",
      "11026      71   76.686732  18.530585 -5.686732\n",
      "20974      18   11.451030  18.530585  6.548970\n",
      "...       ...         ...        ...       ...\n",
      "7900       18   11.451030  18.530585  6.548970\n",
      "13625      36   41.097913  18.530585 -5.097913\n",
      "16706      65   67.965244  18.530585 -2.965244\n",
      "7368       10    5.962803  18.530585  4.037197\n",
      "5591      221  219.826087  18.530585  1.173913\n",
      "\n",
      "[7162 rows x 4 columns]\n"
     ]
    },
    {
     "data": {
      "image/png": "[encoded data removed]",
      "text/plain": [
       "<Figure size 432x288 with 1 Axes>"
      ]
     },
     "metadata": {
      "needs_background": "light"
     },
     "output_type": "display_data"
    },
    {
     "name": "stdout",
     "output_type": "stream",
     "text": [
      "********************\n",
      "********** DecisionTreeRegressor() **********\n",
      "MSE: 0.0013962580284836638\n",
      "SRMSE: 0.0373665362120128\n",
      "MAE: 0.0013962580284836638\n",
      "r2: 0.9999996679713734\n",
      "       actual   pred       MSE  error\n",
      "19452       1    1.0  0.001396    0.0\n",
      "937         6    6.0  0.001396    0.0\n",
      "12188     205  205.0  0.001396    0.0\n",
      "11026      71   71.0  0.001396    0.0\n",
      "20974      18   18.0  0.001396    0.0\n",
      "...       ...    ...       ...    ...\n",
      "7900       18   18.0  0.001396    0.0\n",
      "13625      36   36.0  0.001396    0.0\n",
      "16706      65   65.0  0.001396    0.0\n",
      "7368       10   10.0  0.001396    0.0\n",
      "5591      221  221.0  0.001396    0.0\n",
      "\n",
      "[7162 rows x 4 columns]\n"
     ]
    },
    {
     "data": {
      "image/png": "[encoded data removed]",
      "text/plain": [
       "<Figure size 432x288 with 1 Axes>"
      ]
     },
     "metadata": {
      "needs_background": "light"
     },
     "output_type": "display_data"
    },
    {
     "name": "stdout",
     "output_type": "stream",
     "text": [
      "********************\n",
      "********** RandomForestRegressor() **********\n",
      "MSE: 0.0006716001117006443\n",
      "SRMSE: 0.025915248632815475\n",
      "MAE: 0.003580005585031983\n",
      "r2: 0.9999998402942306\n",
      "       actual    pred       MSE  error\n",
      "19452       1    1.00  0.000672   0.00\n",
      "937         6    6.00  0.000672   0.00\n",
      "12188     205  205.00  0.000672   0.00\n",
      "11026      71   71.00  0.000672   0.00\n",
      "20974      18   18.00  0.000672   0.00\n",
      "...       ...     ...       ...    ...\n",
      "7900       18   18.00  0.000672   0.00\n",
      "13625      36   36.00  0.000672   0.00\n",
      "16706      65   65.00  0.000672   0.00\n",
      "7368       10   10.00  0.000672   0.00\n",
      "5591      221  221.03  0.000672  -0.03\n",
      "\n",
      "[7162 rows x 4 columns]\n"
     ]
    },
    {
     "data": {
      "image/png": "[encoded data removed]",
      "text/plain": [
       "<Figure size 432x288 with 1 Axes>"
      ]
     },
     "metadata": {
      "needs_background": "light"
     },
     "output_type": "display_data"
    },
    {
     "name": "stdout",
     "output_type": "stream",
     "text": [
      "********************\n"
     ]
    }
   ],
   "source": [
    "models = [LinearRegression(),Ridge(),Lasso(),AdaBoostRegressor(),DecisionTreeRegressor(),RandomForestRegressor()]\n",
    "for model in models:\n",
    "    model.fit(X_train,y_train)\n",
    "    pred = model.predict(X_test)\n",
    "    print('*'*10,model,'*'*10)\n",
    "    print(f'MSE: {mean_squared_error(y_test,pred)}')\n",
    "    print(f'SRMSE: {np.sqrt(mean_squared_error(y_test,pred))}')\n",
    "    print(f'MAE: {mean_absolute_error(y_test,pred)}')\n",
    "    print(f'r2: {r2_score(y_test,pred)}')\n",
    "    \n",
    "    df_res = pd.DataFrame()\n",
    "    df_res['actual'] = y_test\n",
    "    df_res['pred'] = pred\n",
    "    df_res['MSE'] = mean_squared_error(y_test,pred)\n",
    "    df_res['error'] = y_test - pred\n",
    "    print(df_res)\n",
    "    \n",
    "    plt.plot(df_res['actual'],df_res['actual'],'b',alpha=1)\n",
    "    plt.plot(df_res['pred'],df_res['actual'],'r',alpha=0.3)\n",
    "    plt.show()\n",
    "    print('*'*20)\n",
    "\n",
    "\n"
   ]
  },
  {
   "cell_type": "code",
   "execution_count": 35,
   "metadata": {},
   "outputs": [
    {
     "name": "stdout",
     "output_type": "stream",
     "text": [
      "********** DecisionTreeRegressor() **********\n",
      "MSE: 0.0006981290142418319\n",
      "SRMSE: 0.02642213114496694\n",
      "MAE: 0.0006981290142418319\n",
      "r2: 0.9999998339856867\n"
     ]
    },
    {
     "data": {
      "image/png": "[encoded data removed]",
      "text/plain": [
       "<Figure size 432x288 with 1 Axes>"
      ]
     },
     "metadata": {
      "needs_background": "light"
     },
     "output_type": "display_data"
    },
    {
     "name": "stdout",
     "output_type": "stream",
     "text": [
      "********************\n"
     ]
    }
   ],
   "source": [
    "model = DecisionTreeRegressor()\n",
    "model.fit(X_train,y_train)\n",
    "pred = model.predict(X_test)\n",
    "print('*'*10,model,'*'*10)\n",
    "print(f'MSE: {mean_squared_error(y_test,pred)}')\n",
    "print(f'SRMSE: {np.sqrt(mean_squared_error(y_test,pred))}')\n",
    "print(f'MAE: {mean_absolute_error(y_test,pred)}')\n",
    "print(f'r2: {r2_score(y_test,pred)}')\n",
    "\n",
    "df_res = pd.DataFrame()\n",
    "df_res['actual'] = y_test\n",
    "df_res['pred'] = pred\n",
    "df_res['MSE'] = mean_squared_error(y_test,pred)\n",
    "df_res['error'] = y_test - pred\n",
    "#print(df_res)\n",
    "\n",
    "plt.plot(df_res['actual'],df_res['actual'],'b',alpha=1)\n",
    "plt.plot(df_res['pred'],df_res['actual'],'r',alpha=0.3)\n",
    "plt.show()\n",
    "print('*'*20)"
   ]
  },
  {
   "cell_type": "code",
   "execution_count": 38,
   "metadata": {},
   "outputs": [
    {
     "data": {
      "text/html": [
       "<div>\n",
       "<style scoped>\n",
       "    .dataframe tbody tr th:only-of-type {\n",
       "        vertical-align: middle;\n",
       "    }\n",
       "\n",
       "    .dataframe tbody tr th {\n",
       "        vertical-align: top;\n",
       "    }\n",
       "\n",
       "    .dataframe thead th {\n",
       "        text-align: right;\n",
       "    }\n",
       "</style>\n",
       "<table border=\"1\" class=\"dataframe\">\n",
       "  <thead>\n",
       "    <tr style=\"text-align: right;\">\n",
       "      <th></th>\n",
       "      <th>actual</th>\n",
       "      <th>pred</th>\n",
       "      <th>MSE</th>\n",
       "      <th>error</th>\n",
       "    </tr>\n",
       "  </thead>\n",
       "  <tbody>\n",
       "    <tr>\n",
       "      <th>20540</th>\n",
       "      <td>6</td>\n",
       "      <td>6.0</td>\n",
       "      <td>0.000698</td>\n",
       "      <td>0.0</td>\n",
       "    </tr>\n",
       "    <tr>\n",
       "      <th>18022</th>\n",
       "      <td>0</td>\n",
       "      <td>0.0</td>\n",
       "      <td>0.000698</td>\n",
       "      <td>0.0</td>\n",
       "    </tr>\n",
       "    <tr>\n",
       "      <th>4058</th>\n",
       "      <td>5</td>\n",
       "      <td>5.0</td>\n",
       "      <td>0.000698</td>\n",
       "      <td>0.0</td>\n",
       "    </tr>\n",
       "    <tr>\n",
       "      <th>10930</th>\n",
       "      <td>94</td>\n",
       "      <td>94.0</td>\n",
       "      <td>0.000698</td>\n",
       "      <td>0.0</td>\n",
       "    </tr>\n",
       "    <tr>\n",
       "      <th>18701</th>\n",
       "      <td>30</td>\n",
       "      <td>30.0</td>\n",
       "      <td>0.000698</td>\n",
       "      <td>0.0</td>\n",
       "    </tr>\n",
       "    <tr>\n",
       "      <th>14744</th>\n",
       "      <td>43</td>\n",
       "      <td>43.0</td>\n",
       "      <td>0.000698</td>\n",
       "      <td>0.0</td>\n",
       "    </tr>\n",
       "    <tr>\n",
       "      <th>3310</th>\n",
       "      <td>0</td>\n",
       "      <td>0.0</td>\n",
       "      <td>0.000698</td>\n",
       "      <td>0.0</td>\n",
       "    </tr>\n",
       "    <tr>\n",
       "      <th>13526</th>\n",
       "      <td>2</td>\n",
       "      <td>2.0</td>\n",
       "      <td>0.000698</td>\n",
       "      <td>0.0</td>\n",
       "    </tr>\n",
       "    <tr>\n",
       "      <th>1025</th>\n",
       "      <td>1</td>\n",
       "      <td>1.0</td>\n",
       "      <td>0.000698</td>\n",
       "      <td>0.0</td>\n",
       "    </tr>\n",
       "    <tr>\n",
       "      <th>4013</th>\n",
       "      <td>1</td>\n",
       "      <td>1.0</td>\n",
       "      <td>0.000698</td>\n",
       "      <td>0.0</td>\n",
       "    </tr>\n",
       "    <tr>\n",
       "      <th>14811</th>\n",
       "      <td>0</td>\n",
       "      <td>0.0</td>\n",
       "      <td>0.000698</td>\n",
       "      <td>0.0</td>\n",
       "    </tr>\n",
       "    <tr>\n",
       "      <th>13905</th>\n",
       "      <td>103</td>\n",
       "      <td>103.0</td>\n",
       "      <td>0.000698</td>\n",
       "      <td>0.0</td>\n",
       "    </tr>\n",
       "    <tr>\n",
       "      <th>5646</th>\n",
       "      <td>0</td>\n",
       "      <td>0.0</td>\n",
       "      <td>0.000698</td>\n",
       "      <td>0.0</td>\n",
       "    </tr>\n",
       "    <tr>\n",
       "      <th>18131</th>\n",
       "      <td>40</td>\n",
       "      <td>40.0</td>\n",
       "      <td>0.000698</td>\n",
       "      <td>0.0</td>\n",
       "    </tr>\n",
       "    <tr>\n",
       "      <th>10218</th>\n",
       "      <td>2</td>\n",
       "      <td>2.0</td>\n",
       "      <td>0.000698</td>\n",
       "      <td>0.0</td>\n",
       "    </tr>\n",
       "  </tbody>\n",
       "</table>\n",
       "</div>"
      ],
      "text/plain": [
       "       actual   pred       MSE  error\n",
       "20540       6    6.0  0.000698    0.0\n",
       "18022       0    0.0  0.000698    0.0\n",
       "4058        5    5.0  0.000698    0.0\n",
       "10930      94   94.0  0.000698    0.0\n",
       "18701      30   30.0  0.000698    0.0\n",
       "14744      43   43.0  0.000698    0.0\n",
       "3310        0    0.0  0.000698    0.0\n",
       "13526       2    2.0  0.000698    0.0\n",
       "1025        1    1.0  0.000698    0.0\n",
       "4013        1    1.0  0.000698    0.0\n",
       "14811       0    0.0  0.000698    0.0\n",
       "13905     103  103.0  0.000698    0.0\n",
       "5646        0    0.0  0.000698    0.0\n",
       "18131      40   40.0  0.000698    0.0\n",
       "10218       2    2.0  0.000698    0.0"
      ]
     },
     "execution_count": 38,
     "metadata": {},
     "output_type": "execute_result"
    }
   ],
   "source": [
    "df_res.sample(15)"
   ]
  },
  {
   "cell_type": "code",
   "execution_count": 39,
   "metadata": {},
   "outputs": [],
   "source": [
    "import pickle"
   ]
  },
  {
   "cell_type": "code",
   "execution_count": 41,
   "metadata": {},
   "outputs": [
    {
     "ename": "FileNotFoundError",
     "evalue": "[Errno 2] No such file or directory: 'models/model.pk'",
     "output_type": "error",
     "traceback": [
      "\u001b[0;31m---------------------------------------------------------------------------\u001b[0m",
      "\u001b[0;31mFileNotFoundError\u001b[0m                         Traceback (most recent call last)",
      "\u001b[0;32m<ipython-input-41-a7ec9e91cb20>\u001b[0m in \u001b[0;36m<module>\u001b[0;34m\u001b[0m\n\u001b[1;32m      1\u001b[0m \u001b[0mfilename\u001b[0m \u001b[0;34m=\u001b[0m \u001b[0;34m'models/model.pk'\u001b[0m\u001b[0;34m\u001b[0m\u001b[0;34m\u001b[0m\u001b[0m\n\u001b[0;32m----> 2\u001b[0;31m \u001b[0mpickle\u001b[0m\u001b[0;34m.\u001b[0m\u001b[0mdump\u001b[0m\u001b[0;34m(\u001b[0m\u001b[0mmodel\u001b[0m\u001b[0;34m,\u001b[0m \u001b[0mopen\u001b[0m\u001b[0;34m(\u001b[0m\u001b[0mfilename\u001b[0m\u001b[0;34m,\u001b[0m \u001b[0;34m'wb'\u001b[0m\u001b[0;34m)\u001b[0m\u001b[0;34m)\u001b[0m\u001b[0;34m\u001b[0m\u001b[0;34m\u001b[0m\u001b[0m\n\u001b[0m",
      "\u001b[0;31mFileNotFoundError\u001b[0m: [Errno 2] No such file or directory: 'models/model.pk'"
     ]
    }
   ],
   "source": [
    "filename = 'models/model.pk'\n",
    "pickle.dump(model, open(filename, 'wb'))\n"
   ]
  },
  {
   "cell_type": "code",
   "execution_count": null,
   "metadata": {},
   "outputs": [],
   "source": []
  }
 ],
 "metadata": {
  "kernelspec": {
   "display_name": "Python 3",
   "language": "python",
   "name": "python3"
  },
  "language_info": {
   "codemirror_mode": {
    "name": "ipython",
    "version": 3
   },
   "file_extension": ".py",
   "mimetype": "text/x-python",
   "name": "python",
   "nbconvert_exporter": "python",
   "pygments_lexer": "ipython3",
   "version": "3.9.0"
  }
 },
 "nbformat": 4,
 "nbformat_minor": 4
}
